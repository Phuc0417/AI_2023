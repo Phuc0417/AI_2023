{
  "cells": [
    {
      "cell_type": "markdown",
      "metadata": {
        "id": "view-in-github",
        "colab_type": "text"
      },
      "source": [
        "<a href=\"https://colab.research.google.com/github/Phuc0417/AI_2023/blob/main/10_Kinds_of_flowers.ipynb\" target=\"_parent\"><img src=\"https://colab.research.google.com/assets/colab-badge.svg\" alt=\"Open In Colab\"/></a>"
      ]
    },
    {
      "cell_type": "code",
      "execution_count": null,
      "metadata": {
        "colab": {
          "base_uri": "https://localhost:8080/"
        },
        "id": "_ELD4kP-JzkQ",
        "outputId": "9f5e51c3-5e7e-49b8-e950-f444fed1d98c"
      },
      "outputs": [
        {
          "output_type": "stream",
          "name": "stdout",
          "text": [
            "(3198, 40, 40, 3) (3198,)\n"
          ]
        }
      ],
      "source": [
        "import numpy as np\n",
        "from sklearn.model_selection import train_test_split\n",
        "from keras.utils import to_categorical\n",
        "from keras.models import Sequential\n",
        "from keras.layers import Dense, Dropout, Flatten, Conv2D, MaxPooling2D, LeakyReLU\n",
        "from keras.optimizers import Adam\n",
        "from keras.losses import categorical_crossentropy\n",
        "from os import listdir\n",
        "from tensorflow.keras.preprocessing.image import load_img, img_to_array\n",
        "from numpy.core.multiarray import asarray\n",
        "\n",
        "folder = '/content/drive/MyDrive/BAOCAOCUOIKY/Flower_10_data/'\n",
        "photos, labels = list(), list()\n",
        "\n",
        "for file in listdir(folder):\n",
        "  output = 0.0\n",
        "  if file.startswith('Daisy'):\n",
        "    output = 1.0\n",
        "  if file.startswith('Rose'):\n",
        "    output = 2.0\n",
        "  if file.startswith('Sunflower'):\n",
        "    output = 3.0 \n",
        "  if file.startswith('Tulip'):\n",
        "    output = 4.0\n",
        "  if file.startswith('Hibiscus'):\n",
        "    output = 5.0\n",
        "  if file.startswith('Ixora'):\n",
        "    output = 6.0\n",
        "  if file.startswith('PeaceLily'):\n",
        "    output = 7.0\n",
        "  if file.startswith('Poinsettia'):\n",
        "    output = 8.0\n",
        "  if file.startswith('Catharanthus'):\n",
        "    output = 9.0\n",
        "  if file.startswith('Crownlmperial'):\n",
        "    output = 10.0\n",
        "\n",
        "  photo = load_img(folder+file, target_size = (40,40))\n",
        "  photo = img_to_array(photo)\n",
        "  photos.append(photo)\n",
        "  labels.append(output)\n",
        "photos = asarray(photos)\n",
        "labels = asarray(labels)\n",
        "print(photos.shape, labels.shape)\n",
        "\n",
        "np.save('/content/drive/MyDrive/BAOCAOCUOIKY/afterprocessing/photos.npy', photos)\n",
        "np.save('/content/drive/MyDrive/BAOCAOCUOIKY/afterprocessing/labels.npy', labels)"
      ]
    },
    {
      "cell_type": "code",
      "source": [
        "# Load dataset\n",
        "photos = np.load('/content/drive/MyDrive/BAOCAOCUOIKY/afterprocessing/photos.npy')\n",
        "labels = np.load('/content/drive/MyDrive/BAOCAOCUOIKY/afterprocessing/labels.npy')\n",
        "\n",
        "# Preprocess data\n",
        "x = photos.astype('float32') / 255\n",
        "y = to_categorical(labels, num_classes=11)\n",
        "\n",
        "# Split data into train and test sets\n",
        "x_train, x_test, y_train, y_test = train_test_split(x, y, test_size=0.2, random_state=42)\n",
        "\n",
        "# Build the model\n",
        "model = Sequential()\n",
        "model.add(Conv2D(64, kernel_size=(3, 3), activation='relu', input_shape=(40, 40, 3), padding='same'))\n",
        "model.add(Conv2D(64, kernel_size=(3, 3), activation='relu', padding='same'))\n",
        "model.add(MaxPooling2D((2, 2)))\n",
        "model.add(Dropout(0.25))\n",
        "\n",
        "model.add(Conv2D(128, (3, 3), activation='relu', padding='same'))\n",
        "model.add(Conv2D(128, (3, 3), activation='relu', padding='same'))\n",
        "model.add(MaxPooling2D((2, 2)))\n",
        "model.add(Dropout(0.25))\n",
        "\n",
        "model.add(Conv2D(256, (3, 3), activation='relu', padding='same'))\n",
        "model.add(Conv2D(256, (3, 3), activation='relu', padding='same'))\n",
        "model.add(MaxPooling2D((2, 2)))\n",
        "model.add(Dropout(0.25))\n",
        "\n",
        "model.add(Flatten())\n",
        "model.add(Dense(512, activation='relu'))\n",
        "model.add(Dropout(0.5))\n",
        "model.add(Dense(11, activation='softmax'))\n",
        "\n",
        "# Compile the model\n",
        "model.compile(loss=categorical_crossentropy, optimizer=Adam(), metrics=['accuracy'])\n",
        "\n",
        "# Train the model\n",
        "model.fit(x_train, y_train, batch_size=32, epochs=50, validation_data=(x_test, y_test))\n",
        "\n",
        "# Evaluate the model on the test dataset\n",
        "_, accuracy = model.evaluate(x_test, y_test)\n",
        "print(\"Accuracy on the test dataset:\", accuracy)\n"
      ],
      "metadata": {
        "colab": {
          "base_uri": "https://localhost:8080/"
        },
        "id": "CsglPSV-UdfJ",
        "outputId": "f5fdcbe2-a8e1-45ac-d659-644051f51ecf"
      },
      "execution_count": null,
      "outputs": [
        {
          "output_type": "stream",
          "name": "stdout",
          "text": [
            "Epoch 1/50\n",
            "80/80 [==============================] - 71s 872ms/step - loss: 2.2734 - accuracy: 0.1423 - val_loss: 2.0552 - val_accuracy: 0.1984\n",
            "Epoch 2/50\n",
            "80/80 [==============================] - 69s 865ms/step - loss: 1.8972 - accuracy: 0.2760 - val_loss: 1.7117 - val_accuracy: 0.3844\n",
            "Epoch 3/50\n",
            "80/80 [==============================] - 68s 848ms/step - loss: 1.6492 - accuracy: 0.3894 - val_loss: 1.5427 - val_accuracy: 0.4359\n",
            "Epoch 4/50\n",
            "80/80 [==============================] - 69s 864ms/step - loss: 1.4823 - accuracy: 0.4676 - val_loss: 1.3400 - val_accuracy: 0.5188\n",
            "Epoch 5/50\n",
            "80/80 [==============================] - 69s 869ms/step - loss: 1.3374 - accuracy: 0.5317 - val_loss: 1.3393 - val_accuracy: 0.5188\n",
            "Epoch 6/50\n",
            "80/80 [==============================] - 68s 857ms/step - loss: 1.2105 - accuracy: 0.5872 - val_loss: 1.1566 - val_accuracy: 0.6016\n",
            "Epoch 7/50\n",
            "80/80 [==============================] - 70s 870ms/step - loss: 1.0817 - accuracy: 0.6181 - val_loss: 1.0824 - val_accuracy: 0.6219\n",
            "Epoch 8/50\n",
            "80/80 [==============================] - 68s 851ms/step - loss: 0.9967 - accuracy: 0.6443 - val_loss: 1.0239 - val_accuracy: 0.6547\n",
            "Epoch 9/50\n",
            "80/80 [==============================] - 69s 869ms/step - loss: 0.9130 - accuracy: 0.6853 - val_loss: 0.8951 - val_accuracy: 0.6812\n",
            "Epoch 10/50\n",
            "80/80 [==============================] - 69s 868ms/step - loss: 0.8346 - accuracy: 0.6982 - val_loss: 0.9352 - val_accuracy: 0.6734\n",
            "Epoch 11/50\n",
            "80/80 [==============================] - 69s 868ms/step - loss: 0.7825 - accuracy: 0.7267 - val_loss: 0.9157 - val_accuracy: 0.6984\n",
            "Epoch 12/50\n",
            "80/80 [==============================] - 68s 852ms/step - loss: 0.6999 - accuracy: 0.7576 - val_loss: 0.8570 - val_accuracy: 0.7359\n",
            "Epoch 13/50\n",
            "80/80 [==============================] - 69s 869ms/step - loss: 0.6223 - accuracy: 0.7729 - val_loss: 0.7980 - val_accuracy: 0.7531\n",
            "Epoch 14/50\n",
            "80/80 [==============================] - 68s 851ms/step - loss: 0.6154 - accuracy: 0.7955 - val_loss: 0.9184 - val_accuracy: 0.7109\n",
            "Epoch 15/50\n",
            "80/80 [==============================] - 68s 850ms/step - loss: 0.4971 - accuracy: 0.8327 - val_loss: 0.8806 - val_accuracy: 0.7531\n",
            "Epoch 16/50\n",
            "80/80 [==============================] - 70s 869ms/step - loss: 0.4394 - accuracy: 0.8487 - val_loss: 0.7463 - val_accuracy: 0.7812\n",
            "Epoch 17/50\n",
            "80/80 [==============================] - 68s 848ms/step - loss: 0.3955 - accuracy: 0.8671 - val_loss: 0.7851 - val_accuracy: 0.7891\n",
            "Epoch 18/50\n",
            "80/80 [==============================] - 69s 866ms/step - loss: 0.3740 - accuracy: 0.8745 - val_loss: 0.7894 - val_accuracy: 0.7953\n",
            "Epoch 19/50\n",
            "80/80 [==============================] - 69s 862ms/step - loss: 0.3405 - accuracy: 0.8808 - val_loss: 0.8741 - val_accuracy: 0.7609\n",
            "Epoch 20/50\n",
            "80/80 [==============================] - 69s 866ms/step - loss: 0.2883 - accuracy: 0.8995 - val_loss: 0.9332 - val_accuracy: 0.7406\n",
            "Epoch 21/50\n",
            "80/80 [==============================] - 67s 845ms/step - loss: 0.3250 - accuracy: 0.8921 - val_loss: 0.8104 - val_accuracy: 0.8047\n",
            "Epoch 22/50\n",
            "80/80 [==============================] - 70s 880ms/step - loss: 0.2410 - accuracy: 0.9206 - val_loss: 0.9203 - val_accuracy: 0.7516\n",
            "Epoch 23/50\n",
            "80/80 [==============================] - 69s 866ms/step - loss: 0.2399 - accuracy: 0.9097 - val_loss: 0.7877 - val_accuracy: 0.8031\n",
            "Epoch 24/50\n",
            "80/80 [==============================] - 68s 851ms/step - loss: 0.1721 - accuracy: 0.9378 - val_loss: 0.8832 - val_accuracy: 0.8141\n",
            "Epoch 25/50\n",
            "80/80 [==============================] - 69s 859ms/step - loss: 0.1762 - accuracy: 0.9394 - val_loss: 0.8607 - val_accuracy: 0.8016\n",
            "Epoch 26/50\n",
            "80/80 [==============================] - 68s 847ms/step - loss: 0.2437 - accuracy: 0.9148 - val_loss: 0.9334 - val_accuracy: 0.7906\n",
            "Epoch 27/50\n",
            "80/80 [==============================] - 68s 847ms/step - loss: 0.1664 - accuracy: 0.9398 - val_loss: 0.8058 - val_accuracy: 0.8000\n",
            "Epoch 28/50\n",
            "80/80 [==============================] - 68s 857ms/step - loss: 0.1529 - accuracy: 0.9484 - val_loss: 1.0128 - val_accuracy: 0.7953\n",
            "Epoch 29/50\n",
            "80/80 [==============================] - 68s 852ms/step - loss: 0.1863 - accuracy: 0.9343 - val_loss: 1.0226 - val_accuracy: 0.7984\n",
            "Epoch 30/50\n",
            "80/80 [==============================] - 68s 852ms/step - loss: 0.1514 - accuracy: 0.9488 - val_loss: 0.8695 - val_accuracy: 0.8016\n",
            "Epoch 31/50\n",
            "80/80 [==============================] - 69s 865ms/step - loss: 0.1209 - accuracy: 0.9609 - val_loss: 1.1325 - val_accuracy: 0.7891\n",
            "Epoch 32/50\n",
            "80/80 [==============================] - 69s 867ms/step - loss: 0.1433 - accuracy: 0.9566 - val_loss: 0.9927 - val_accuracy: 0.8234\n",
            "Epoch 33/50\n",
            "80/80 [==============================] - 68s 850ms/step - loss: 0.1011 - accuracy: 0.9636 - val_loss: 1.1192 - val_accuracy: 0.8125\n",
            "Epoch 34/50\n",
            "80/80 [==============================] - 74s 930ms/step - loss: 0.1088 - accuracy: 0.9672 - val_loss: 1.0301 - val_accuracy: 0.8078\n",
            "Epoch 35/50\n",
            "80/80 [==============================] - 69s 865ms/step - loss: 0.0943 - accuracy: 0.9691 - val_loss: 1.0182 - val_accuracy: 0.8109\n",
            "Epoch 36/50\n",
            "80/80 [==============================] - 68s 848ms/step - loss: 0.1220 - accuracy: 0.9629 - val_loss: 1.0217 - val_accuracy: 0.8016\n",
            "Epoch 37/50\n",
            "80/80 [==============================] - 70s 871ms/step - loss: 0.0922 - accuracy: 0.9683 - val_loss: 1.2569 - val_accuracy: 0.8047\n",
            "Epoch 38/50\n",
            "80/80 [==============================] - 68s 851ms/step - loss: 0.0935 - accuracy: 0.9699 - val_loss: 1.1973 - val_accuracy: 0.8047\n",
            "Epoch 39/50\n",
            "80/80 [==============================] - 67s 844ms/step - loss: 0.1406 - accuracy: 0.9562 - val_loss: 1.0916 - val_accuracy: 0.7828\n",
            "Epoch 40/50\n",
            "80/80 [==============================] - 69s 863ms/step - loss: 0.1580 - accuracy: 0.9535 - val_loss: 1.0964 - val_accuracy: 0.7906\n",
            "Epoch 41/50\n",
            "80/80 [==============================] - 69s 863ms/step - loss: 0.0871 - accuracy: 0.9773 - val_loss: 1.1546 - val_accuracy: 0.8047\n",
            "Epoch 42/50\n",
            "80/80 [==============================] - 68s 847ms/step - loss: 0.1063 - accuracy: 0.9656 - val_loss: 0.9227 - val_accuracy: 0.8094\n",
            "Epoch 43/50\n",
            "80/80 [==============================] - 70s 870ms/step - loss: 0.0614 - accuracy: 0.9812 - val_loss: 1.0688 - val_accuracy: 0.8047\n",
            "Epoch 44/50\n",
            "80/80 [==============================] - 68s 846ms/step - loss: 0.1014 - accuracy: 0.9652 - val_loss: 1.0295 - val_accuracy: 0.8172\n",
            "Epoch 45/50\n",
            "80/80 [==============================] - 69s 866ms/step - loss: 0.1043 - accuracy: 0.9668 - val_loss: 1.0995 - val_accuracy: 0.8188\n",
            "Epoch 46/50\n",
            "80/80 [==============================] - 69s 860ms/step - loss: 0.0639 - accuracy: 0.9793 - val_loss: 1.0188 - val_accuracy: 0.8203\n",
            "Epoch 47/50\n",
            "80/80 [==============================] - 68s 849ms/step - loss: 0.0706 - accuracy: 0.9805 - val_loss: 1.2372 - val_accuracy: 0.7891\n",
            "Epoch 48/50\n",
            "80/80 [==============================] - 68s 844ms/step - loss: 0.0682 - accuracy: 0.9801 - val_loss: 1.2655 - val_accuracy: 0.8094\n",
            "Epoch 49/50\n",
            "80/80 [==============================] - 69s 862ms/step - loss: 0.0926 - accuracy: 0.9719 - val_loss: 1.1492 - val_accuracy: 0.8188\n",
            "Epoch 50/50\n",
            "80/80 [==============================] - 69s 861ms/step - loss: 0.0650 - accuracy: 0.9816 - val_loss: 1.1737 - val_accuracy: 0.8266\n",
            "20/20 [==============================] - 5s 243ms/step - loss: 1.1737 - accuracy: 0.8266\n",
            "Accuracy on the test dataset: 0.8265625238418579\n"
          ]
        }
      ]
    },
    {
      "cell_type": "code",
      "execution_count": null,
      "metadata": {
        "id": "Wrb1X4chPe1N"
      },
      "outputs": [],
      "source": [
        "# Save the model to Drive\n",
        "model.save('/content/drive/MyDrive/BAOCAOCUOIKY/afterprocessing/model.h5')"
      ]
    },
    {
      "cell_type": "code",
      "source": [],
      "metadata": {
        "id": "tGgbaJx4WTb0"
      },
      "execution_count": null,
      "outputs": []
    }
  ],
  "metadata": {
    "colab": {
      "provenance": [],
      "gpuType": "T4",
      "mount_file_id": "11y5_DuZjD7Q-olVC8ixGkFuyWSJyyrfd",
      "authorship_tag": "ABX9TyPXGoE4cHAl1WDL96OK7e4M",
      "include_colab_link": true
    },
    "gpuClass": "standard",
    "kernelspec": {
      "display_name": "Python 3",
      "name": "python3"
    },
    "language_info": {
      "name": "python"
    },
    "accelerator": "GPU"
  },
  "nbformat": 4,
  "nbformat_minor": 0
}