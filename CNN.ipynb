{
  "cells": [
    {
      "cell_type": "markdown",
      "metadata": {
        "id": "view-in-github",
        "colab_type": "text"
      },
      "source": [
        "<a href=\"https://colab.research.google.com/github/Phuc0417/AI_2023/blob/main/CNN.ipynb\" target=\"_parent\"><img src=\"https://colab.research.google.com/assets/colab-badge.svg\" alt=\"Open In Colab\"/></a>"
      ]
    },
    {
      "cell_type": "code",
      "execution_count": 3,
      "metadata": {
        "colab": {
          "base_uri": "https://localhost:8080/"
        },
        "id": "_ELD4kP-JzkQ",
        "outputId": "7c181507-2c64-44aa-8398-8bd1625d4d02"
      },
      "outputs": [
        {
          "output_type": "stream",
          "name": "stdout",
          "text": [
            "(3198, 40, 40, 3) (3198,)\n"
          ]
        }
      ],
      "source": [
        "import numpy as np\n",
        "from sklearn.model_selection import train_test_split\n",
        "from keras.utils import to_categorical\n",
        "from keras.models import Sequential\n",
        "from keras.layers import Dense, Dropout, Flatten, Conv2D, MaxPooling2D, LeakyReLU\n",
        "from keras.optimizers import Adam\n",
        "from keras.losses import categorical_crossentropy\n",
        "from os import listdir\n",
        "from tensorflow.keras.preprocessing.image import load_img, img_to_array\n",
        "from numpy.core.multiarray import asarray\n",
        "\n",
        "folder = '/content/drive/MyDrive/BAOCAOCUOIKY/Flower_10_data/'\n",
        "photos, labels = list(), list()\n",
        "\n",
        "for file in listdir(folder):\n",
        "  output = 0.0\n",
        "  if file.startswith('Daisy'):\n",
        "    output = 1.0\n",
        "  if file.startswith('Rose'):\n",
        "    output = 2.0\n",
        "  if file.startswith('Sunflower'):\n",
        "    output = 3.0 \n",
        "  if file.startswith('Tulip'):\n",
        "    output = 4.0\n",
        "  if file.startswith('Hibiscus'):\n",
        "    output = 5.0\n",
        "  if file.startswith('Ixora'):\n",
        "    output = 6.0\n",
        "  if file.startswith('PeaceLily'):\n",
        "    output = 7.0\n",
        "  if file.startswith('Poinsettia'):\n",
        "    output = 8.0\n",
        "  if file.startswith('Catharanthus'):\n",
        "    output = 9.0\n",
        "  if file.startswith('Crownlmperial'):\n",
        "    output = 10.0\n",
        "\n",
        "  photo = load_img(folder+file, target_size = (40,40))\n",
        "  photo = img_to_array(photo)\n",
        "  photos.append(photo)\n",
        "  labels.append(output)\n",
        "photos = asarray(photos)\n",
        "labels = asarray(labels)\n",
        "print(photos.shape, labels.shape)\n",
        "\n",
        "np.save('/content/drive/MyDrive/BAOCAOCUOIKY/afterprocessing/photos.npy', photos)\n",
        "np.save('/content/drive/MyDrive/BAOCAOCUOIKY/afterprocessing/labels.npy', labels)"
      ]
    },
    {
      "cell_type": "code",
      "execution_count": 4,
      "metadata": {
        "id": "m0MRZy47m54Y"
      },
      "outputs": [],
      "source": [
        "# Load dataset\n",
        "photos = np.load('/content/drive/MyDrive/BAOCAOCUOIKY/afterprocessing/photos.npy')\n",
        "labels = np.load('/content/drive/MyDrive/BAOCAOCUOIKY/afterprocessing/labels.npy')\n",
        "\n",
        "# Preprocess data\n",
        "x = photos.astype('float32') / 255\n",
        "y = to_categorical(labels, num_classes=11)\n",
        "\n",
        "# Split data into train and test sets\n",
        "x_train, x_test, y_train, y_test = train_test_split(x, y, test_size=0.2, random_state=42)\n",
        "\n",
        "# Build the model\n",
        "model = Sequential()\n",
        "model.add(Conv2D(64, kernel_size=(3, 3), activation='relu', input_shape=(40, 40, 3), padding='same'))\n",
        "model.add(Conv2D(64, kernel_size=(3, 3), activation='relu', padding='same'))\n",
        "model.add(MaxPooling2D((2, 2)))\n",
        "model.add(Dropout(0.25))\n",
        "\n",
        "model.add(Conv2D(128, (3, 3), activation='relu', padding='same'))\n",
        "model.add(Conv2D(128, (3, 3), activation='relu', padding='same'))\n",
        "model.add(MaxPooling2D((2, 2)))\n",
        "model.add(Dropout(0.25))\n",
        "\n",
        "model.add(Conv2D(256, (3, 3), activation='relu', padding='same'))\n",
        "model.add(Conv2D(256, (3, 3), activation='relu', padding='same'))\n",
        "model.add(MaxPooling2D((2, 2)))\n",
        "model.add(Dropout(0.25))\n",
        "\n",
        "model.add(Flatten())\n",
        "model.add(Dense(512, activation='relu'))\n",
        "model.add(Dropout(0.5))\n",
        "model.add(Dense(256, activation='relu'))\n",
        "model.add(Dropout(0.5))\n",
        "model.add(Dense(11, activation='softmax'))\n",
        "\n",
        "# Compile the model\n",
        "model.compile(loss=categorical_crossentropy, optimizer=Adam(), metrics=['accuracy'])\n"
      ]
    },
    {
      "cell_type": "code",
      "execution_count": 5,
      "metadata": {
        "colab": {
          "base_uri": "https://localhost:8080/"
        },
        "id": "QU8PugsZKHKK",
        "outputId": "026c10c8-8136-4a07-96cb-036a9318e5f9"
      },
      "outputs": [
        {
          "output_type": "stream",
          "name": "stdout",
          "text": [
            "Epoch 1/30\n",
            "40/40 [==============================] - 127s 3s/step - loss: 2.3292 - accuracy: 0.1106 - val_loss: 2.2489 - val_accuracy: 0.1781\n",
            "Epoch 2/30\n",
            "40/40 [==============================] - 126s 3s/step - loss: 2.2398 - accuracy: 0.1716 - val_loss: 2.1509 - val_accuracy: 0.2203\n",
            "Epoch 3/30\n",
            "40/40 [==============================] - 122s 3s/step - loss: 2.0981 - accuracy: 0.2271 - val_loss: 1.9969 - val_accuracy: 0.2328\n",
            "Epoch 4/30\n",
            "40/40 [==============================] - 122s 3s/step - loss: 1.9760 - accuracy: 0.2373 - val_loss: 1.8407 - val_accuracy: 0.2797\n",
            "Epoch 5/30\n",
            "40/40 [==============================] - 124s 3s/step - loss: 1.7702 - accuracy: 0.3065 - val_loss: 1.6253 - val_accuracy: 0.3844\n",
            "Epoch 6/30\n",
            "40/40 [==============================] - 129s 3s/step - loss: 1.5939 - accuracy: 0.4105 - val_loss: 1.4328 - val_accuracy: 0.4703\n",
            "Epoch 7/30\n",
            "40/40 [==============================] - 142s 4s/step - loss: 1.4811 - accuracy: 0.4668 - val_loss: 1.3974 - val_accuracy: 0.5000\n",
            "Epoch 8/30\n",
            "40/40 [==============================] - 136s 3s/step - loss: 1.3382 - accuracy: 0.5293 - val_loss: 1.1977 - val_accuracy: 0.5844\n",
            "Epoch 9/30\n",
            "40/40 [==============================] - 120s 3s/step - loss: 1.2678 - accuracy: 0.5520 - val_loss: 1.2062 - val_accuracy: 0.5734\n",
            "Epoch 10/30\n",
            "40/40 [==============================] - 121s 3s/step - loss: 1.2031 - accuracy: 0.5735 - val_loss: 1.1346 - val_accuracy: 0.5781\n",
            "Epoch 11/30\n",
            "40/40 [==============================] - 119s 3s/step - loss: 1.1424 - accuracy: 0.5934 - val_loss: 1.1448 - val_accuracy: 0.6172\n",
            "Epoch 12/30\n",
            "40/40 [==============================] - 131s 3s/step - loss: 1.0816 - accuracy: 0.6122 - val_loss: 1.0268 - val_accuracy: 0.6375\n",
            "Epoch 13/30\n",
            "40/40 [==============================] - 119s 3s/step - loss: 0.9948 - accuracy: 0.6454 - val_loss: 1.0279 - val_accuracy: 0.6547\n",
            "Epoch 14/30\n",
            "40/40 [==============================] - 116s 3s/step - loss: 0.9299 - accuracy: 0.6759 - val_loss: 1.0753 - val_accuracy: 0.6391\n",
            "Epoch 15/30\n",
            "40/40 [==============================] - 122s 3s/step - loss: 0.9533 - accuracy: 0.6622 - val_loss: 0.9000 - val_accuracy: 0.6922\n",
            "Epoch 16/30\n",
            "40/40 [==============================] - 119s 3s/step - loss: 0.8424 - accuracy: 0.6951 - val_loss: 0.9127 - val_accuracy: 0.6859\n",
            "Epoch 17/30\n",
            "40/40 [==============================] - 123s 3s/step - loss: 0.8150 - accuracy: 0.7209 - val_loss: 0.8457 - val_accuracy: 0.7109\n",
            "Epoch 18/30\n",
            "40/40 [==============================] - 129s 3s/step - loss: 0.7590 - accuracy: 0.7416 - val_loss: 0.8960 - val_accuracy: 0.6891\n",
            "Epoch 19/30\n",
            "40/40 [==============================] - 132s 3s/step - loss: 0.7258 - accuracy: 0.7525 - val_loss: 0.9120 - val_accuracy: 0.6656\n",
            "Epoch 20/30\n",
            "40/40 [==============================] - 127s 3s/step - loss: 0.6507 - accuracy: 0.7795 - val_loss: 0.8080 - val_accuracy: 0.7078\n",
            "Epoch 21/30\n",
            "40/40 [==============================] - 132s 3s/step - loss: 0.6361 - accuracy: 0.7834 - val_loss: 0.8276 - val_accuracy: 0.7156\n",
            "Epoch 22/30\n",
            "40/40 [==============================] - 124s 3s/step - loss: 0.6434 - accuracy: 0.7748 - val_loss: 0.7759 - val_accuracy: 0.7500\n",
            "Epoch 23/30\n",
            "40/40 [==============================] - 124s 3s/step - loss: 0.5733 - accuracy: 0.8127 - val_loss: 0.7759 - val_accuracy: 0.7578\n",
            "Epoch 24/30\n",
            "40/40 [==============================] - 137s 3s/step - loss: 0.5166 - accuracy: 0.8174 - val_loss: 0.7232 - val_accuracy: 0.7750\n",
            "Epoch 25/30\n",
            "40/40 [==============================] - 130s 3s/step - loss: 0.4847 - accuracy: 0.8303 - val_loss: 0.6912 - val_accuracy: 0.7875\n",
            "Epoch 26/30\n",
            "40/40 [==============================] - 130s 3s/step - loss: 0.4376 - accuracy: 0.8522 - val_loss: 0.8572 - val_accuracy: 0.7422\n",
            "Epoch 27/30\n",
            "40/40 [==============================] - 129s 3s/step - loss: 0.4319 - accuracy: 0.8534 - val_loss: 0.7180 - val_accuracy: 0.7812\n",
            "Epoch 28/30\n",
            "40/40 [==============================] - 128s 3s/step - loss: 0.3536 - accuracy: 0.8858 - val_loss: 0.7404 - val_accuracy: 0.7672\n",
            "Epoch 29/30\n",
            "40/40 [==============================] - 127s 3s/step - loss: 0.3469 - accuracy: 0.8874 - val_loss: 0.7552 - val_accuracy: 0.7953\n",
            "Epoch 30/30\n",
            "40/40 [==============================] - 128s 3s/step - loss: 0.3425 - accuracy: 0.8870 - val_loss: 0.9016 - val_accuracy: 0.7547\n",
            "Accuracy on the test dataset: 0.754687488079071\n"
          ]
        }
      ],
      "source": [
        "# Train the model\n",
        "model.fit(x_train, y_train, batch_size=64, epochs=30, validation_data=(x_test, y_test))\n",
        "\n",
        "# Evaluate accuracy on the test dataset\n",
        "test_accuracy = model.evaluate(x_test, y_test, verbose=0)[1]\n",
        "print(\"Accuracy on the test dataset:\", test_accuracy)\n"
      ]
    },
    {
      "cell_type": "code",
      "execution_count": 6,
      "metadata": {
        "id": "Wrb1X4chPe1N"
      },
      "outputs": [],
      "source": [
        "# Save the model to Drive\n",
        "model.save('/content/drive/MyDrive/BAOCAOCUOIKY/afterprocessing/model.h5')"
      ]
    }
  ],
  "metadata": {
    "colab": {
      "provenance": [],
      "gpuType": "T4",
      "mount_file_id": "11y5_DuZjD7Q-olVC8ixGkFuyWSJyyrfd",
      "authorship_tag": "ABX9TyNGAU97lj8TVLmInvTyOIqs",
      "include_colab_link": true
    },
    "gpuClass": "standard",
    "kernelspec": {
      "display_name": "Python 3",
      "name": "python3"
    },
    "language_info": {
      "name": "python"
    },
    "accelerator": "GPU"
  },
  "nbformat": 4,
  "nbformat_minor": 0
}